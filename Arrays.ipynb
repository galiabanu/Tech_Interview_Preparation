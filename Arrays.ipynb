{
 "cells": [
  {
   "cell_type": "markdown",
   "metadata": {},
   "source": [
    "# Arrays"
   ]
  },
  {
   "cell_type": "markdown",
   "metadata": {},
   "source": [
    "## Sorting algorithms\n"
   ]
  },
  {
   "cell_type": "code",
   "execution_count": 29,
   "metadata": {
    "collapsed": false
   },
   "outputs": [
    {
     "name": "stdout",
     "output_type": "stream",
     "text": [
      "[2, 15, 7, 11, 19, 5, 10, 7, 13, 8]\n"
     ]
    }
   ],
   "source": [
    "# Create a list of numbers\n",
    "\n",
    "import random\n",
    "\n",
    "array =[]\n",
    "for i in range(0,10):\n",
    "    array.append(random.randint(1, 20))\n",
    "print(array)"
   ]
  },
  {
   "cell_type": "code",
   "execution_count": 30,
   "metadata": {
    "collapsed": false
   },
   "outputs": [
    {
     "name": "stdout",
     "output_type": "stream",
     "text": [
      "[2, 5, 7, 7, 8, 10, 11, 13, 15, 19]\n"
     ]
    }
   ],
   "source": [
    "# Python sorting\n",
    "\n",
    "array.sort()\n",
    "print (array)"
   ]
  },
  {
   "cell_type": "markdown",
   "metadata": {},
   "source": [
    "### Bubble sort\n",
    "\n",
    "Bubble sort is a simple sorting algorithm that repeatedly steps through the list to be sorted, compares each pair of adjacent items and swaps them if they are in the wrong order. The pass through the list is repeated until no swaps are needed, which indicates that the list is sorted. "
   ]
  },
  {
   "cell_type": "code",
   "execution_count": 31,
   "metadata": {
    "collapsed": true
   },
   "outputs": [],
   "source": [
    "def sorting (array):\n",
    "    changed = True\n",
    "    while changed:\n",
    "        changed = False\n",
    "        for i in range(0, len(array)-1):\n",
    "            if array[i] > array[i+1]:\n",
    "                b = array[i]\n",
    "                array[i] = array[i+1]\n",
    "                array[i+1] = b\n",
    "                changed = True\n",
    "    return array"
   ]
  },
  {
   "cell_type": "code",
   "execution_count": 32,
   "metadata": {
    "collapsed": false
   },
   "outputs": [
    {
     "data": {
      "text/plain": [
       "[2, 5, 7, 7, 8, 10, 11, 13, 15, 19]"
      ]
     },
     "execution_count": 32,
     "metadata": {},
     "output_type": "execute_result"
    }
   ],
   "source": [
    "sorting(array)"
   ]
  },
  {
   "cell_type": "code",
   "execution_count": 33,
   "metadata": {
    "collapsed": true
   },
   "outputs": [],
   "source": [
    "def bub_sort(a):\n",
    "    changed = True\n",
    "    while changed:\n",
    "        changed = False\n",
    "        for i in range(0, len(a)-1):\n",
    "            if a[i] > a[i+1]:\n",
    "                a[i], a[i+1] = a[i+1], a[i]\n",
    "                changed = True\n",
    "    return a\n"
   ]
  },
  {
   "cell_type": "code",
   "execution_count": 34,
   "metadata": {
    "collapsed": true
   },
   "outputs": [],
   "source": [
    "# Return maximum in the list\n",
    "\n",
    "def max_array(a):\n",
    "    max = a[0]\n",
    "    for i in range(len(a)):\n",
    "        if a[i] > max:\n",
    "            max = a[i]\n",
    "    return max\n"
   ]
  },
  {
   "cell_type": "code",
   "execution_count": 35,
   "metadata": {
    "collapsed": false
   },
   "outputs": [
    {
     "data": {
      "text/plain": [
       "19"
      ]
     },
     "execution_count": 35,
     "metadata": {},
     "output_type": "execute_result"
    }
   ],
   "source": [
    "max_array(array)"
   ]
  },
  {
   "cell_type": "code",
   "execution_count": 36,
   "metadata": {
    "collapsed": false
   },
   "outputs": [
    {
     "name": "stdout",
     "output_type": "stream",
     "text": [
      "[0, 1, 2, 3, 4, 5, 6, 7, 8, 9]\n"
     ]
    }
   ],
   "source": [
    "# Different ways to get a list\n",
    "\n",
    "a = [i for i in range (0,10)]\n",
    "print(a)"
   ]
  },
  {
   "cell_type": "code",
   "execution_count": 37,
   "metadata": {
    "collapsed": false
   },
   "outputs": [
    {
     "name": "stdout",
     "output_type": "stream",
     "text": [
      "[0, 1, 4, 9, 16, 25, 36, 49, 64, 81]\n"
     ]
    }
   ],
   "source": [
    "a = [i**2 for i in range (0,10)]\n",
    "print(a)"
   ]
  },
  {
   "cell_type": "markdown",
   "metadata": {},
   "source": [
    "### Merge Sort\n",
    "\n",
    "Merge sort takes advantage of the ease of merging already sorted lists into a new sorted list. The basic idea is to split the collection into smaller groups by halving it until the groups only have one element or no elements (which are both entirely sorted groups). Then merge the groups back together so that their elements are in order. "
   ]
  },
  {
   "cell_type": "code",
   "execution_count": 38,
   "metadata": {
    "collapsed": true
   },
   "outputs": [],
   "source": [
    "from heapq import merge\n",
    "  \n",
    "def merge_sort(m):\n",
    "    if len(m) <= 1:\n",
    "        return m\n",
    "  \n",
    "    middle = len(m) // 2\n",
    "    left = m[:middle]\n",
    "    right = m[middle:]\n",
    "  \n",
    "    left = merge_sort(left)\n",
    "    right = merge_sort(right)\n",
    "    return list(merge(left, right))\n"
   ]
  },
  {
   "cell_type": "markdown",
   "metadata": {},
   "source": [
    "### Shuffle"
   ]
  },
  {
   "cell_type": "code",
   "execution_count": 39,
   "metadata": {
    "collapsed": false
   },
   "outputs": [
    {
     "name": "stdout",
     "output_type": "stream",
     "text": [
      "Before shuffle: [1, 2, 3, 4, 5, 6, 7, 8, 9, 10]\n",
      "After  shuffle: [6, 7, 3, 8, 4, 1, 9, 5, 2, 10]\n"
     ]
    }
   ],
   "source": [
    "# Suffle the elements in the array\n",
    "\n",
    "a = [i for i in range (1,11)]\n",
    "print(\"Before shuffle: \" + str(a))\n",
    "\n",
    "# Python way\n",
    "random.shuffle(a)\n",
    "print(\"After  shuffle: \" + str(a))"
   ]
  },
  {
   "cell_type": "code",
   "execution_count": 40,
   "metadata": {
    "collapsed": false
   },
   "outputs": [],
   "source": [
    "def shuffle(a):\n",
    "    \n",
    "    listIndex = []\n",
    "    b = [0 for i in range(len(a))]\n",
    "    new_ind = random.randint(0, len(a)-1)\n",
    "    \n",
    "    for i in range(len(a)):\n",
    "        while new_ind in listIndex:\n",
    "            new_ind = random.randint(0, len(a)-1)\n",
    "        listIndex.append(new_ind) \n",
    "        b[new_ind] = a[i]\n",
    "        \n",
    "    return(b)"
   ]
  },
  {
   "cell_type": "code",
   "execution_count": 41,
   "metadata": {
    "collapsed": false
   },
   "outputs": [
    {
     "name": "stdout",
     "output_type": "stream",
     "text": [
      "Before shuffle: [1, 2, 3, 4, 5, 6, 7, 8, 9, 10]\n",
      "After  shuffle: [5, 9, 4, 10, 3, 2, 7, 1, 6, 8]\n"
     ]
    }
   ],
   "source": [
    "a = [i for i in range (1,11)]\n",
    "print(\"Before shuffle: \" + str(a))\n",
    "print(\"After  shuffle: \" + str(shuffle(a)))"
   ]
  },
  {
   "cell_type": "markdown",
   "metadata": {},
   "source": [
    "### How to find the missing number in integer array of 1 to 100?"
   ]
  },
  {
   "cell_type": "code",
   "execution_count": 42,
   "metadata": {
    "collapsed": false
   },
   "outputs": [
    {
     "name": "stdout",
     "output_type": "stream",
     "text": [
      "[1, 2, 3, 4, 5, 6, 7, 8, 9, 10, 11, 12, 13, 14, 15, 16, 17, 18, 19, 20, 21, 22, 23, 24, 25, 26, 27, 29, 30, 31, 32, 33, 34, 35, 36, 37, 38, 39, 40, 41, 42, 43, 44, 45, 46, 47, 48, 49, 50, 51, 52, 53, 54, 55, 56, 57, 58, 59, 60, 61, 62, 63, 64, 65, 66, 67, 68, 69, 70, 71, 72, 73, 74, 75, 76, 77, 78, 79, 80, 81, 82, 83, 84, 85, 86, 87, 88, 89, 90, 91, 92, 93, 94, 95, 96, 97, 98, 99, 100]\n",
      "28\n"
     ]
    }
   ],
   "source": [
    "# How to find the missing number in integer array of 1 to 100?\n",
    "\n",
    "# Array with one missing number in range [1,100]\n",
    "a = [i for i in range (1,101)]\n",
    "i = random.randint(1, len(a))\n",
    "a.remove(i)\n",
    "\n",
    "# Array with numbers 1-100\n",
    "a100 = [i for i in range (1,101)]\n",
    "\n",
    "def sum_all(a):\n",
    "    s = 0\n",
    "    for i in range(0,len(a)):\n",
    "        s += a[i]\n",
    "    return s\n",
    "\n",
    "def miss_value(a):\n",
    "    return (sum_all(a100) - sum_all(a))\n",
    "\n",
    "\n",
    "print(a)\n",
    "print(miss_value(a))"
   ]
  },
  {
   "cell_type": "markdown",
   "metadata": {},
   "source": [
    "### How to reverse array in place?"
   ]
  },
  {
   "cell_type": "code",
   "execution_count": 43,
   "metadata": {
    "collapsed": false
   },
   "outputs": [
    {
     "name": "stdout",
     "output_type": "stream",
     "text": [
      "Given array:    [1, 2, 3, 4, 5, 6, 7, 8, 9, 10]\n",
      "Reversed array: [10, 9, 8, 7, 6, 5, 4, 3, 2, 1]\n"
     ]
    },
    {
     "data": {
      "text/plain": [
       "[1, 2, 3, 4, 5, 6, 7, 8, 9, 10]"
      ]
     },
     "execution_count": 43,
     "metadata": {},
     "output_type": "execute_result"
    }
   ],
   "source": [
    "# How to reverse array in place?\n",
    "\n",
    "a = [i for i in range (1,11)]\n",
    "print(\"Given array:    \" + str(a))\n",
    "\n",
    "# Python way\n",
    "a.reverse()\n",
    "print(\"Reversed array: \" + str(a))\n",
    "\n",
    "a[::-1] # does not change the actual array"
   ]
  },
  {
   "cell_type": "code",
   "execution_count": 44,
   "metadata": {
    "collapsed": true
   },
   "outputs": [],
   "source": [
    "def reverse_a(a):\n",
    "    b = [0]*len(a)\n",
    "    j = 0\n",
    "    for i in range(len(a)-1, -1, -1):\n",
    "        b[j] = a[i]\n",
    "        j += 1\n",
    "    return b"
   ]
  },
  {
   "cell_type": "code",
   "execution_count": 45,
   "metadata": {
    "collapsed": false
   },
   "outputs": [
    {
     "name": "stdout",
     "output_type": "stream",
     "text": [
      "Given array:   [10, 9, 8, 7, 6, 5, 4, 3, 2, 1]\n",
      "Reversed array:[1, 2, 3, 4, 5, 6, 7, 8, 9, 10]\n"
     ]
    }
   ],
   "source": [
    "print(\"Given array:   \" + str(a))\n",
    "print(\"Reversed array:\" + str(reverse_a(a)))"
   ]
  },
  {
   "cell_type": "markdown",
   "metadata": {},
   "source": [
    "### Write a program to remove duplicates from array"
   ]
  },
  {
   "cell_type": "code",
   "execution_count": 46,
   "metadata": {
    "collapsed": false
   },
   "outputs": [
    {
     "name": "stdout",
     "output_type": "stream",
     "text": [
      "Given array: [8, 1, 7, 7, 9, 2, 3, 2, 2, 10]\n",
      "Set of the list: {1, 2, 3, 7, 8, 9, 10}\n"
     ]
    }
   ],
   "source": [
    "a =[]\n",
    "for i in range(0,10):\n",
    "    a.append(random.randint(1, 10))\n",
    "\n",
    "# Python Way\n",
    "print(\"Given array: \" + str(a))\n",
    "print(\"Set of the list: \" + str(set(a)))"
   ]
  },
  {
   "cell_type": "code",
   "execution_count": 47,
   "metadata": {
    "collapsed": true
   },
   "outputs": [],
   "source": [
    "def no_duplicate(a):\n",
    "    new_a = []\n",
    "    for i in range(len(a)):\n",
    "        if a[i] not in new_a:\n",
    "            new_a.append(a[i])\n",
    "    return(new_a)"
   ]
  },
  {
   "cell_type": "code",
   "execution_count": 48,
   "metadata": {
    "collapsed": false
   },
   "outputs": [
    {
     "name": "stdout",
     "output_type": "stream",
     "text": [
      "Given array: [8, 1, 7, 7, 9, 2, 3, 2, 2, 10]\n",
      "Array with no duplicates: [8, 1, 7, 9, 2, 3, 10]\n"
     ]
    }
   ],
   "source": [
    "print(\"Given array: \" + str(a))\n",
    "print(\"Array with no duplicates: \" + str(no_duplicate(a)))"
   ]
  },
  {
   "cell_type": "markdown",
   "metadata": {},
   "source": [
    "###  Write a program to find intersection of two arrays"
   ]
  },
  {
   "cell_type": "code",
   "execution_count": 56,
   "metadata": {
    "collapsed": false
   },
   "outputs": [
    {
     "data": {
      "text/plain": [
       "[1, 10, 4, 5, 6]"
      ]
     },
     "execution_count": 56,
     "metadata": {},
     "output_type": "execute_result"
    }
   ],
   "source": [
    "a =[]\n",
    "for i in range(0,10):\n",
    "    a.append(random.randint(1, 10))\n",
    "    \n",
    "b =[]\n",
    "for i in range(0,10):\n",
    "    b.append(random.randint(1, 10))    \n",
    "    \n",
    "# Python Way\n",
    "list(set(a).intersection(b))"
   ]
  },
  {
   "cell_type": "code",
   "execution_count": 57,
   "metadata": {
    "collapsed": true
   },
   "outputs": [],
   "source": [
    "def intersect(a,b):\n",
    "    common = []\n",
    "    a = no_duplicate(a)\n",
    "    for i in range(len(a)):\n",
    "        if a[i] in b:\n",
    "            common.append(a[i])\n",
    "    return common"
   ]
  },
  {
   "cell_type": "code",
   "execution_count": 58,
   "metadata": {
    "collapsed": false
   },
   "outputs": [
    {
     "name": "stdout",
     "output_type": "stream",
     "text": [
      "[6, 6, 1, 5, 6, 3, 9, 10, 3, 4]\n",
      "[4, 5, 8, 1, 4, 2, 6, 8, 10, 7]\n",
      "[6, 1, 5, 10, 4]\n"
     ]
    }
   ],
   "source": [
    "print(a)\n",
    "print(b)\n",
    "print(intersect(a,b))"
   ]
  },
  {
   "cell_type": "markdown",
   "metadata": {},
   "source": [
    "### Find common sub-array in two arrays"
   ]
  },
  {
   "cell_type": "code",
   "execution_count": 5,
   "metadata": {
    "collapsed": true
   },
   "outputs": [],
   "source": [
    "# Find common sub-array in two arrays\n",
    "\n",
    "def sub_a(a,b):\n",
    "    sub = []\n",
    "    for i in range(len(a)):\n",
    "        if a[i] in b:\n",
    "            j = b.index(a[i])\n",
    "            print(j)\n",
    "            while a[i] == b[j]:\n",
    "                sub.append(a[i])\n",
    "                i, j = i+1, j+1\n",
    "                print(sub)\n",
    "                if i > len(a)-1:\n",
    "                    break\n",
    "            break\n",
    "    return sub\n",
    "                "
   ]
  },
  {
   "cell_type": "code",
   "execution_count": 6,
   "metadata": {
    "collapsed": false
   },
   "outputs": [
    {
     "name": "stdout",
     "output_type": "stream",
     "text": [
      "1\n",
      "[3]\n",
      "[3, 4]\n",
      "[3, 4, 5]\n"
     ]
    },
    {
     "data": {
      "text/plain": [
       "[3, 4, 5]"
      ]
     },
     "execution_count": 6,
     "metadata": {},
     "output_type": "execute_result"
    }
   ],
   "source": [
    "a = [1, 2, 3, 4, 5]\n",
    "b = [6, 3, 4, 5, 7, 8]\n",
    "sub_a(a,b)"
   ]
  }
 ],
 "metadata": {
  "anaconda-cloud": {},
  "kernelspec": {
   "display_name": "Python [Root]",
   "language": "python",
   "name": "Python [Root]"
  },
  "language_info": {
   "codemirror_mode": {
    "name": "ipython",
    "version": 3
   },
   "file_extension": ".py",
   "mimetype": "text/x-python",
   "name": "python",
   "nbconvert_exporter": "python",
   "pygments_lexer": "ipython3",
   "version": "3.5.2"
  }
 },
 "nbformat": 4,
 "nbformat_minor": 0
}
