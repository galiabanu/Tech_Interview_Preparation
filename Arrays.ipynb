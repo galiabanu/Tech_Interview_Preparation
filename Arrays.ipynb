{
 "cells": [
  {
   "cell_type": "markdown",
   "metadata": {},
   "source": [
    "# Arrays"
   ]
  },
  {
   "cell_type": "markdown",
   "metadata": {},
   "source": [
    "## Sorting algorithms\n"
   ]
  },
  {
   "cell_type": "code",
   "execution_count": 60,
   "metadata": {
    "collapsed": false
   },
   "outputs": [
    {
     "name": "stdout",
     "output_type": "stream",
     "text": [
      "[13, 14, 7, 17, 13, 10, 9, 17, 15, 8]\n"
     ]
    }
   ],
   "source": [
    "# Create a list of numbers\n",
    "\n",
    "import random\n",
    "\n",
    "array =[]\n",
    "for i in range(0,10):\n",
    "    array.append(random.randint(1, 20))\n",
    "print(array)"
   ]
  },
  {
   "cell_type": "code",
   "execution_count": 61,
   "metadata": {
    "collapsed": false
   },
   "outputs": [
    {
     "name": "stdout",
     "output_type": "stream",
     "text": [
      "[7, 8, 9, 10, 13, 13, 14, 15, 17, 17]\n"
     ]
    }
   ],
   "source": [
    "# Python sorting\n",
    "\n",
    "array.sort()\n",
    "print (array)"
   ]
  },
  {
   "cell_type": "markdown",
   "metadata": {},
   "source": [
    "### Bubble sort\n",
    "\n",
    "Bubble sort is a simple sorting algorithm that repeatedly steps through the list to be sorted, compares each pair of adjacent items and swaps them if they are in the wrong order. The pass through the list is repeated until no swaps are needed, which indicates that the list is sorted. "
   ]
  },
  {
   "cell_type": "code",
   "execution_count": 62,
   "metadata": {
    "collapsed": true
   },
   "outputs": [],
   "source": [
    "def sorting (array):\n",
    "    changed = True\n",
    "    while changed:\n",
    "        changed = False\n",
    "        for i in range(0, len(array)-1):\n",
    "            if array[i] > array[i+1]:\n",
    "                b = array[i]\n",
    "                array[i] = array[i+1]\n",
    "                array[i+1] = b\n",
    "                changed = True\n",
    "    return array"
   ]
  },
  {
   "cell_type": "code",
   "execution_count": 63,
   "metadata": {
    "collapsed": false
   },
   "outputs": [
    {
     "data": {
      "text/plain": [
       "[7, 8, 9, 10, 13, 13, 14, 15, 17, 17]"
      ]
     },
     "execution_count": 63,
     "metadata": {},
     "output_type": "execute_result"
    }
   ],
   "source": [
    "sorting(array)"
   ]
  },
  {
   "cell_type": "code",
   "execution_count": 64,
   "metadata": {
    "collapsed": true
   },
   "outputs": [],
   "source": [
    "def bub_sort(a):\n",
    "    changed = True\n",
    "    while changed:\n",
    "        changed = False\n",
    "        for i in range(0, len(a)-1):\n",
    "            if a[i] > a[i+1]:\n",
    "                a[i], a[i+1] = a[i+1], a[i]\n",
    "                changed = True\n",
    "    return a\n"
   ]
  },
  {
   "cell_type": "code",
   "execution_count": 65,
   "metadata": {
    "collapsed": true
   },
   "outputs": [],
   "source": [
    "# Return maximum in the list\n",
    "\n",
    "def max_array(a):\n",
    "    max = a[0]\n",
    "    for i in range(len(a)):\n",
    "        if a[i] > max:\n",
    "            max = a[i]\n",
    "    return max\n"
   ]
  },
  {
   "cell_type": "code",
   "execution_count": 66,
   "metadata": {
    "collapsed": false
   },
   "outputs": [
    {
     "data": {
      "text/plain": [
       "17"
      ]
     },
     "execution_count": 66,
     "metadata": {},
     "output_type": "execute_result"
    }
   ],
   "source": [
    "max_array(array)"
   ]
  },
  {
   "cell_type": "code",
   "execution_count": 67,
   "metadata": {
    "collapsed": false
   },
   "outputs": [
    {
     "name": "stdout",
     "output_type": "stream",
     "text": [
      "[0, 1, 2, 3, 4, 5, 6, 7, 8, 9]\n"
     ]
    }
   ],
   "source": [
    "# Different ways to get a list\n",
    "\n",
    "a = [i for i in range (0,10)]\n",
    "print(a)"
   ]
  },
  {
   "cell_type": "code",
   "execution_count": 68,
   "metadata": {
    "collapsed": false
   },
   "outputs": [
    {
     "name": "stdout",
     "output_type": "stream",
     "text": [
      "[0, 1, 4, 9, 16, 25, 36, 49, 64, 81]\n"
     ]
    }
   ],
   "source": [
    "a = [i**2 for i in range (0,10)]\n",
    "print(a)"
   ]
  },
  {
   "cell_type": "markdown",
   "metadata": {},
   "source": [
    "### Merge Sort\n",
    "\n",
    "Merge sort takes advantage of the ease of merging already sorted lists into a new sorted list. The basic idea is to split the collection into smaller groups by halving it until the groups only have one element or no elements (which are both entirely sorted groups). Then merge the groups back together so that their elements are in order. "
   ]
  },
  {
   "cell_type": "code",
   "execution_count": 69,
   "metadata": {
    "collapsed": true
   },
   "outputs": [],
   "source": [
    "from heapq import merge\n",
    "  \n",
    "def merge_sort(m):\n",
    "    if len(m) <= 1:\n",
    "        return m\n",
    "  \n",
    "    middle = len(m) // 2\n",
    "    left = m[:middle]\n",
    "    right = m[middle:]\n",
    "  \n",
    "    left = merge_sort(left)\n",
    "    right = merge_sort(right)\n",
    "    return list(merge(left, right))\n"
   ]
  },
  {
   "cell_type": "markdown",
   "metadata": {},
   "source": [
    "### Shuffle"
   ]
  },
  {
   "cell_type": "code",
   "execution_count": 70,
   "metadata": {
    "collapsed": false
   },
   "outputs": [
    {
     "name": "stdout",
     "output_type": "stream",
     "text": [
      "Before shuffle: [1, 2, 3, 4, 5, 6, 7, 8, 9, 10]\n",
      "After  shuffle: [4, 1, 5, 2, 10, 3, 6, 9, 7, 8]\n"
     ]
    }
   ],
   "source": [
    "# Suffle the elements in the array\n",
    "\n",
    "a = [i for i in range (1,11)]\n",
    "print(\"Before shuffle: \" + str(a))\n",
    "\n",
    "# Python way\n",
    "random.shuffle(a)\n",
    "print(\"After  shuffle: \" + str(a))"
   ]
  },
  {
   "cell_type": "code",
   "execution_count": 71,
   "metadata": {
    "collapsed": false
   },
   "outputs": [],
   "source": [
    "def shuffle(a):\n",
    "    \n",
    "    listIndex = []\n",
    "    b = [0 for i in range(len(a))]\n",
    "    new_ind = random.randint(0, len(a)-1)\n",
    "    \n",
    "    for i in range(len(a)):\n",
    "        while new_ind in listIndex:\n",
    "            new_ind = random.randint(0, len(a)-1)\n",
    "        listIndex.append(new_ind) \n",
    "        b[new_ind] = a[i]\n",
    "        \n",
    "    return(b)"
   ]
  },
  {
   "cell_type": "code",
   "execution_count": 72,
   "metadata": {
    "collapsed": false
   },
   "outputs": [
    {
     "name": "stdout",
     "output_type": "stream",
     "text": [
      "Before shuffle: [1, 2, 3, 4, 5, 6, 7, 8, 9, 10]\n",
      "After  shuffle: [2, 3, 4, 6, 7, 10, 1, 5, 9, 8]\n"
     ]
    }
   ],
   "source": [
    "a = [i for i in range (1,11)]\n",
    "print(\"Before shuffle: \" + str(a))\n",
    "print(\"After  shuffle: \" + str(shuffle(a)))"
   ]
  },
  {
   "cell_type": "markdown",
   "metadata": {},
   "source": [
    "### How to find the missing number in integer array of 1 to 100?"
   ]
  },
  {
   "cell_type": "code",
   "execution_count": 93,
   "metadata": {
    "collapsed": false
   },
   "outputs": [
    {
     "name": "stdout",
     "output_type": "stream",
     "text": [
      "[1, 2, 3, 4, 5, 6, 7, 8, 9, 10, 11, 12, 13, 14, 15, 16, 17, 18, 19, 20, 21, 22, 23, 24, 25, 26, 27, 28, 29, 30, 31, 32, 33, 34, 35, 36, 37, 38, 39, 40, 41, 42, 43, 44, 45, 46, 47, 48, 49, 50, 51, 52, 53, 54, 55, 56, 57, 58, 59, 60, 61, 62, 63, 64, 65, 66, 67, 68, 69, 70, 71, 72, 73, 74, 75, 76, 77, 78, 79, 80, 81, 82, 83, 84, 85, 86, 87, 88, 90, 91, 92, 93, 94, 95, 96, 97, 98, 99, 100]\n",
      "89\n"
     ]
    }
   ],
   "source": [
    "# How to find the missing number in integer array of 1 to 100?\n",
    "\n",
    "# Array with one missing number in range [1,100]\n",
    "a = [i for i in range (1,101)]\n",
    "i = random.randint(1, len(a))\n",
    "a.remove(i)\n",
    "\n",
    "# Array with numbers 1-100\n",
    "a100 = [i for i in range (1,101)]\n",
    "\n",
    "def sum_all(a):\n",
    "    s = 0\n",
    "    for i in range(0,len(a)):\n",
    "        s += a[i]\n",
    "    return s\n",
    "\n",
    "def miss_value(a):\n",
    "    return (sum_all(a100) - sum_all(a))\n",
    "\n",
    "\n",
    "print(a)\n",
    "print(miss_value(a))"
   ]
  },
  {
   "cell_type": "markdown",
   "metadata": {},
   "source": [
    "### How to reverse array in place?"
   ]
  },
  {
   "cell_type": "code",
   "execution_count": 121,
   "metadata": {
    "collapsed": false
   },
   "outputs": [
    {
     "name": "stdout",
     "output_type": "stream",
     "text": [
      "Given array:    [1, 2, 3, 4, 5, 6, 7, 8, 9, 10]\n",
      "Reversed array: [10, 9, 8, 7, 6, 5, 4, 3, 2, 1]\n"
     ]
    },
    {
     "data": {
      "text/plain": [
       "[1, 2, 3, 4, 5, 6, 7, 8, 9, 10]"
      ]
     },
     "execution_count": 121,
     "metadata": {},
     "output_type": "execute_result"
    }
   ],
   "source": [
    "# How to reverse array in place?\n",
    "\n",
    "a = [i for i in range (1,11)]\n",
    "print(\"Given array:    \" + str(a))\n",
    "\n",
    "# Python way\n",
    "a.reverse()\n",
    "print(\"Reversed array: \" + str(a))\n",
    "\n",
    "a[::-1] # does not change the actual array"
   ]
  },
  {
   "cell_type": "code",
   "execution_count": 122,
   "metadata": {
    "collapsed": true
   },
   "outputs": [],
   "source": [
    "def reverse_a(a):\n",
    "    b = [0]*len(a)\n",
    "    j = 0\n",
    "    for i in range(len(a)-1, -1, -1):\n",
    "        b[j] = a[i]\n",
    "        j += 1\n",
    "    return b"
   ]
  },
  {
   "cell_type": "code",
   "execution_count": 123,
   "metadata": {
    "collapsed": false
   },
   "outputs": [
    {
     "name": "stdout",
     "output_type": "stream",
     "text": [
      "Given array:   [10, 9, 8, 7, 6, 5, 4, 3, 2, 1]\n",
      "Reversed array:[1, 2, 3, 4, 5, 6, 7, 8, 9, 10]\n"
     ]
    }
   ],
   "source": [
    "print(\"Given array:   \" + str(a))\n",
    "print(\"Reversed array:\" + str(reverse_a(a)))"
   ]
  }
 ],
 "metadata": {
  "anaconda-cloud": {},
  "kernelspec": {
   "display_name": "Python [Root]",
   "language": "python",
   "name": "Python [Root]"
  },
  "language_info": {
   "codemirror_mode": {
    "name": "ipython",
    "version": 3
   },
   "file_extension": ".py",
   "mimetype": "text/x-python",
   "name": "python",
   "nbconvert_exporter": "python",
   "pygments_lexer": "ipython3",
   "version": "3.5.2"
  }
 },
 "nbformat": 4,
 "nbformat_minor": 0
}
