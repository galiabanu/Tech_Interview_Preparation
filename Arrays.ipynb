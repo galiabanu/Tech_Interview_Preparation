{
 "cells": [
  {
   "cell_type": "markdown",
   "metadata": {},
   "source": [
    "# Arrays"
   ]
  },
  {
   "cell_type": "markdown",
   "metadata": {},
   "source": [
    "## Sorting algorithms\n"
   ]
  },
  {
   "cell_type": "code",
   "execution_count": 2,
   "metadata": {
    "collapsed": false
   },
   "outputs": [
    {
     "name": "stdout",
     "output_type": "stream",
     "text": [
      "[15, 7, 16, 20, 4, 13, 19, 18, 18, 11]\n"
     ]
    }
   ],
   "source": [
    "# Create a list of numbers\n",
    "\n",
    "import random\n",
    "\n",
    "array =[]\n",
    "for i in range(0,10):\n",
    "    array.append(random.randint(1, 20))\n",
    "print(array)"
   ]
  },
  {
   "cell_type": "code",
   "execution_count": 3,
   "metadata": {
    "collapsed": false
   },
   "outputs": [
    {
     "name": "stdout",
     "output_type": "stream",
     "text": [
      "[4, 7, 11, 13, 15, 16, 18, 18, 19, 20]\n"
     ]
    }
   ],
   "source": [
    "# Python sorting\n",
    "\n",
    "array.sort()\n",
    "print (array)"
   ]
  },
  {
   "cell_type": "markdown",
   "metadata": {},
   "source": [
    "### Bubble sort\n",
    "\n",
    "Bubble sort is a simple sorting algorithm that repeatedly steps through the list to be sorted, compares each pair of adjacent items and swaps them if they are in the wrong order. The pass through the list is repeated until no swaps are needed, which indicates that the list is sorted. "
   ]
  },
  {
   "cell_type": "code",
   "execution_count": 4,
   "metadata": {
    "collapsed": true
   },
   "outputs": [],
   "source": [
    "def sorting (array):\n",
    "    changed = True\n",
    "    while changed:\n",
    "        changed = False\n",
    "        for i in range(0, len(array)-1):\n",
    "            if array[i] > array[i+1]:\n",
    "                b = array[i]\n",
    "                array[i] = array[i+1]\n",
    "                array[i+1] = b\n",
    "                changed = True\n",
    "    return array"
   ]
  },
  {
   "cell_type": "code",
   "execution_count": 5,
   "metadata": {
    "collapsed": false
   },
   "outputs": [
    {
     "data": {
      "text/plain": [
       "[4, 7, 11, 13, 15, 16, 18, 18, 19, 20]"
      ]
     },
     "execution_count": 5,
     "metadata": {},
     "output_type": "execute_result"
    }
   ],
   "source": [
    "sorting(array)"
   ]
  },
  {
   "cell_type": "code",
   "execution_count": 6,
   "metadata": {
    "collapsed": true
   },
   "outputs": [],
   "source": [
    "def bub_sort(a):\n",
    "    changed = True\n",
    "    while changed:\n",
    "        changed = False\n",
    "        for i in range(0, len(a)-1):\n",
    "            if a[i] > a[i+1]:\n",
    "                a[i], a[i+1] = a[i+1], a[i]\n",
    "                changed = True\n",
    "    return a\n"
   ]
  },
  {
   "cell_type": "code",
   "execution_count": 7,
   "metadata": {
    "collapsed": true
   },
   "outputs": [],
   "source": [
    "# Return maximum in the list\n",
    "\n",
    "def max_array(a):\n",
    "    max = a[0]\n",
    "    for i in range(len(a)):\n",
    "        if a[i] > max:\n",
    "            max = a[i]\n",
    "    return max\n"
   ]
  },
  {
   "cell_type": "code",
   "execution_count": 8,
   "metadata": {
    "collapsed": false
   },
   "outputs": [
    {
     "data": {
      "text/plain": [
       "20"
      ]
     },
     "execution_count": 8,
     "metadata": {},
     "output_type": "execute_result"
    }
   ],
   "source": [
    "max_array(array)"
   ]
  },
  {
   "cell_type": "code",
   "execution_count": 9,
   "metadata": {
    "collapsed": false
   },
   "outputs": [
    {
     "name": "stdout",
     "output_type": "stream",
     "text": [
      "[0, 1, 2, 3, 4, 5, 6, 7, 8, 9]\n"
     ]
    }
   ],
   "source": [
    "# Different ways to get a list\n",
    "\n",
    "a = [i for i in range (0,10)]\n",
    "print(a)"
   ]
  },
  {
   "cell_type": "code",
   "execution_count": 10,
   "metadata": {
    "collapsed": false
   },
   "outputs": [
    {
     "name": "stdout",
     "output_type": "stream",
     "text": [
      "[0, 1, 4, 9, 16, 25, 36, 49, 64, 81]\n"
     ]
    }
   ],
   "source": [
    "a = [i**2 for i in range (0,10)]\n",
    "print(a)"
   ]
  },
  {
   "cell_type": "markdown",
   "metadata": {},
   "source": [
    "### Merge Sort\n",
    "\n",
    "Merge sort takes advantage of the ease of merging already sorted lists into a new sorted list. The basic idea is to split the collection into smaller groups by halving it until the groups only have one element or no elements (which are both entirely sorted groups). Then merge the groups back together so that their elements are in order. "
   ]
  },
  {
   "cell_type": "code",
   "execution_count": 11,
   "metadata": {
    "collapsed": true
   },
   "outputs": [],
   "source": [
    "from heapq import merge\n",
    "  \n",
    "def merge_sort(m):\n",
    "    if len(m) <= 1:\n",
    "        return m\n",
    "  \n",
    "    middle = len(m) // 2\n",
    "    left = m[:middle]\n",
    "    right = m[middle:]\n",
    "  \n",
    "    left = merge_sort(left)\n",
    "    right = merge_sort(right)\n",
    "    return list(merge(left, right))\n"
   ]
  },
  {
   "cell_type": "markdown",
   "metadata": {},
   "source": [
    "### Shuffle"
   ]
  },
  {
   "cell_type": "code",
   "execution_count": 12,
   "metadata": {
    "collapsed": false
   },
   "outputs": [
    {
     "name": "stdout",
     "output_type": "stream",
     "text": [
      "Before shuffle: [1, 2, 3, 4, 5, 6, 7, 8, 9, 10]\n",
      "After  shuffle: [6, 1, 10, 3, 2, 4, 8, 9, 5, 7]\n"
     ]
    }
   ],
   "source": [
    "# Suffle the elements in the array\n",
    "\n",
    "a = [i for i in range (1,11)]\n",
    "print(\"Before shuffle: \" + str(a))\n",
    "\n",
    "# Python way\n",
    "random.shuffle(a)\n",
    "print(\"After  shuffle: \" + str(a))"
   ]
  },
  {
   "cell_type": "code",
   "execution_count": 13,
   "metadata": {
    "collapsed": false
   },
   "outputs": [],
   "source": [
    "def shuffle(a):\n",
    "    \n",
    "    listIndex = []\n",
    "    b = [0 for i in range(len(a))]\n",
    "    new_ind = random.randint(0, len(a)-1)\n",
    "    \n",
    "    for i in range(len(a)):\n",
    "        while new_ind in listIndex:\n",
    "            new_ind = random.randint(0, len(a)-1)\n",
    "        listIndex.append(new_ind) \n",
    "        b[new_ind] = a[i]\n",
    "        \n",
    "    return(b)"
   ]
  },
  {
   "cell_type": "code",
   "execution_count": 14,
   "metadata": {
    "collapsed": false
   },
   "outputs": [
    {
     "name": "stdout",
     "output_type": "stream",
     "text": [
      "Before shuffle: [1, 2, 3, 4, 5, 6, 7, 8, 9, 10]\n",
      "After  shuffle: [3, 8, 1, 4, 6, 5, 2, 7, 9, 10]\n"
     ]
    }
   ],
   "source": [
    "a = [i for i in range (1,11)]\n",
    "print(\"Before shuffle: \" + str(a))\n",
    "print(\"After  shuffle: \" + str(shuffle(a)))"
   ]
  },
  {
   "cell_type": "markdown",
   "metadata": {},
   "source": [
    "### How to find the missing number in integer array of 1 to 100?"
   ]
  },
  {
   "cell_type": "code",
   "execution_count": 15,
   "metadata": {
    "collapsed": false
   },
   "outputs": [
    {
     "name": "stdout",
     "output_type": "stream",
     "text": [
      "[1, 2, 3, 4, 5, 6, 7, 8, 9, 11, 12, 13, 14, 15, 16, 17, 18, 19, 20, 21, 22, 23, 24, 25, 26, 27, 28, 29, 30, 31, 32, 33, 34, 35, 36, 37, 38, 39, 40, 41, 42, 43, 44, 45, 46, 47, 48, 49, 50, 51, 52, 53, 54, 55, 56, 57, 58, 59, 60, 61, 62, 63, 64, 65, 66, 67, 68, 69, 70, 71, 72, 73, 74, 75, 76, 77, 78, 79, 80, 81, 82, 83, 84, 85, 86, 87, 88, 89, 90, 91, 92, 93, 94, 95, 96, 97, 98, 99, 100]\n",
      "10\n"
     ]
    }
   ],
   "source": [
    "# How to find the missing number in integer array of 1 to 100?\n",
    "\n",
    "# Array with one missing number in range [1,100]\n",
    "a = [i for i in range (1,101)]\n",
    "i = random.randint(1, len(a))\n",
    "a.remove(i)\n",
    "\n",
    "# Array with numbers 1-100\n",
    "a100 = [i for i in range (1,101)]\n",
    "\n",
    "def sum_all(a):\n",
    "    s = 0\n",
    "    for i in range(0,len(a)):\n",
    "        s += a[i]\n",
    "    return s\n",
    "\n",
    "def miss_value(a):\n",
    "    return (sum_all(a100) - sum_all(a))\n",
    "\n",
    "\n",
    "print(a)\n",
    "print(miss_value(a))"
   ]
  },
  {
   "cell_type": "markdown",
   "metadata": {},
   "source": [
    "### How to reverse array in place?"
   ]
  },
  {
   "cell_type": "code",
   "execution_count": 16,
   "metadata": {
    "collapsed": false
   },
   "outputs": [
    {
     "name": "stdout",
     "output_type": "stream",
     "text": [
      "Given array:    [1, 2, 3, 4, 5, 6, 7, 8, 9, 10]\n",
      "Reversed array: [10, 9, 8, 7, 6, 5, 4, 3, 2, 1]\n"
     ]
    },
    {
     "data": {
      "text/plain": [
       "[1, 2, 3, 4, 5, 6, 7, 8, 9, 10]"
      ]
     },
     "execution_count": 16,
     "metadata": {},
     "output_type": "execute_result"
    }
   ],
   "source": [
    "# How to reverse array in place?\n",
    "\n",
    "a = [i for i in range (1,11)]\n",
    "print(\"Given array:    \" + str(a))\n",
    "\n",
    "# Python way\n",
    "a.reverse()\n",
    "print(\"Reversed array: \" + str(a))\n",
    "\n",
    "a[::-1] # does not change the actual array"
   ]
  },
  {
   "cell_type": "code",
   "execution_count": 17,
   "metadata": {
    "collapsed": true
   },
   "outputs": [],
   "source": [
    "def reverse_a(a):\n",
    "    b = [0]*len(a)\n",
    "    j = 0\n",
    "    for i in range(len(a)-1, -1, -1):\n",
    "        b[j] = a[i]\n",
    "        j += 1\n",
    "    return b"
   ]
  },
  {
   "cell_type": "code",
   "execution_count": 18,
   "metadata": {
    "collapsed": false
   },
   "outputs": [
    {
     "name": "stdout",
     "output_type": "stream",
     "text": [
      "Given array:   [10, 9, 8, 7, 6, 5, 4, 3, 2, 1]\n",
      "Reversed array:[1, 2, 3, 4, 5, 6, 7, 8, 9, 10]\n"
     ]
    }
   ],
   "source": [
    "print(\"Given array:   \" + str(a))\n",
    "print(\"Reversed array:\" + str(reverse_a(a)))"
   ]
  },
  {
   "cell_type": "markdown",
   "metadata": {},
   "source": [
    "### Write a program to remove duplicates from array"
   ]
  },
  {
   "cell_type": "code",
   "execution_count": 19,
   "metadata": {
    "collapsed": false
   },
   "outputs": [
    {
     "name": "stdout",
     "output_type": "stream",
     "text": [
      "Given array: [9, 1, 4, 4, 10, 4, 8, 4, 4, 4]\n",
      "Set of the list: {8, 9, 10, 4, 1}\n"
     ]
    }
   ],
   "source": [
    "a =[]\n",
    "for i in range(0,10):\n",
    "    a.append(random.randint(1, 10))\n",
    "\n",
    "# Python Way\n",
    "print(\"Given array: \" + str(a))\n",
    "print(\"Set of the list: \" + str(set(a)))"
   ]
  },
  {
   "cell_type": "code",
   "execution_count": 20,
   "metadata": {
    "collapsed": true
   },
   "outputs": [],
   "source": [
    "def no_duplicate(a):\n",
    "    new_a = []\n",
    "    for i in range(len(a)):\n",
    "        if a[i] not in new_a:\n",
    "            new_a.append(a[i])\n",
    "    return(new_a)"
   ]
  },
  {
   "cell_type": "code",
   "execution_count": 21,
   "metadata": {
    "collapsed": false
   },
   "outputs": [
    {
     "name": "stdout",
     "output_type": "stream",
     "text": [
      "Given array: [9, 1, 4, 4, 10, 4, 8, 4, 4, 4]\n",
      "Array with no duplicates: [9, 1, 4, 10, 8]\n"
     ]
    }
   ],
   "source": [
    "print(\"Given array: \" + str(a))\n",
    "print(\"Array with no duplicates: \" + str(no_duplicate(a)))"
   ]
  },
  {
   "cell_type": "markdown",
   "metadata": {},
   "source": [
    "###  Write a program to find intersection of two arrays"
   ]
  },
  {
   "cell_type": "code",
   "execution_count": 22,
   "metadata": {
    "collapsed": false
   },
   "outputs": [
    {
     "data": {
      "text/plain": [
       "[1, 10, 6, 9, 7]"
      ]
     },
     "execution_count": 22,
     "metadata": {},
     "output_type": "execute_result"
    }
   ],
   "source": [
    "a =[]\n",
    "for i in range(0,10):\n",
    "    a.append(random.randint(1, 10))\n",
    "    \n",
    "b =[]\n",
    "for i in range(0,10):\n",
    "    b.append(random.randint(1, 10))    \n",
    "    \n",
    "# Python Way\n",
    "list(set(a).intersection(b))"
   ]
  },
  {
   "cell_type": "code",
   "execution_count": 23,
   "metadata": {
    "collapsed": true
   },
   "outputs": [],
   "source": [
    "def intersect(a,b):\n",
    "    common = []\n",
    "    a = no_duplicate(a)\n",
    "    for i in range(len(a)):\n",
    "        if a[i] in b:\n",
    "            common.append(a[i])\n",
    "    return common"
   ]
  },
  {
   "cell_type": "code",
   "execution_count": 24,
   "metadata": {
    "collapsed": false
   },
   "outputs": [
    {
     "name": "stdout",
     "output_type": "stream",
     "text": [
      "[5, 2, 7, 9, 2, 5, 1, 6, 7, 10]\n",
      "[1, 9, 7, 7, 6, 7, 10, 3, 8, 9]\n",
      "[7, 9, 1, 6, 10]\n"
     ]
    }
   ],
   "source": [
    "print(a)\n",
    "print(b)\n",
    "print(intersect(a,b))"
   ]
  },
  {
   "cell_type": "markdown",
   "metadata": {},
   "source": [
    "### Find common sub-array in two arrays"
   ]
  },
  {
   "cell_type": "code",
   "execution_count": 25,
   "metadata": {
    "collapsed": true
   },
   "outputs": [],
   "source": [
    "# Find common sub-array in two arrays\n",
    "\n",
    "def sub_a(a,b):\n",
    "    sub = []\n",
    "    for i in range(len(a)):\n",
    "        if a[i] in b:\n",
    "            j = b.index(a[i])\n",
    "            while a[i] == b[j]:\n",
    "                sub.append(a[i])\n",
    "                i, j = i+1, j+1\n",
    "                print(sub)\n",
    "                if i > len(a)-1:\n",
    "                    break\n",
    "            break\n",
    "    return sub\n",
    "                "
   ]
  },
  {
   "cell_type": "code",
   "execution_count": 26,
   "metadata": {
    "collapsed": false
   },
   "outputs": [
    {
     "name": "stdout",
     "output_type": "stream",
     "text": [
      "[3]\n",
      "[3, 4]\n",
      "[3, 4, 5]\n"
     ]
    },
    {
     "data": {
      "text/plain": [
       "[3, 4, 5]"
      ]
     },
     "execution_count": 26,
     "metadata": {},
     "output_type": "execute_result"
    }
   ],
   "source": [
    "a = [1, 2, 3, 4, 5]\n",
    "b = [6, 3, 4, 5, 7, 8]\n",
    "sub_a(a,b)"
   ]
  },
  {
   "cell_type": "code",
   "execution_count": 101,
   "metadata": {
    "collapsed": false
   },
   "outputs": [
    {
     "name": "stdout",
     "output_type": "stream",
     "text": [
      "Given array: [5, -8, 2, -8, 0, -9, 2, -7, 5, -9, -9, -9, -4, -8, 10, -6, 3, 7, 9, 9]\n"
     ]
    }
   ],
   "source": [
    "# Find the largest sum of the elements of all consequetive subarrays possible.\n",
    "\n",
    "# Three possible possibilities:\n",
    "# 1. All negative number: take the min of absolute value\n",
    "# 2. All positive: take the sum of all elements\n",
    "# 3. Mix of positive and negative\n",
    "\n",
    "a =[]\n",
    "for i in range(0,20):\n",
    "    a.append(random.randint(-10, 10))\n",
    "print(\"Given array: \" + str(a))"
   ]
  },
  {
   "cell_type": "code",
   "execution_count": 102,
   "metadata": {
    "collapsed": false
   },
   "outputs": [],
   "source": [
    "def max_sub_a(a):\n",
    "\n",
    "    s = 0\n",
    "    m = 0\n",
    "    \n",
    "    # check for positive/negative arrays    \n",
    "    if all(i <= 0 for i in a):\n",
    "        m = max(a)\n",
    "        print(m)\n",
    "    elif all(i >= 0 for i in a):\n",
    "        m = sum(a)\n",
    "    else:\n",
    "        for i in range(len(a)):\n",
    "            if a[i] >= 0:\n",
    "                s += a[i]\n",
    "                if s > m:\n",
    "                    m = s\n",
    "            else:\n",
    "                s = 0\n",
    "    return m"
   ]
  },
  {
   "cell_type": "code",
   "execution_count": 103,
   "metadata": {
    "collapsed": false
   },
   "outputs": [
    {
     "name": "stdout",
     "output_type": "stream",
     "text": [
      "Max sum: 28\n"
     ]
    }
   ],
   "source": [
    "print(\"Max sum: \" + str(max_sub_a(a)))"
   ]
  }
 ],
 "metadata": {
  "anaconda-cloud": {},
  "kernelspec": {
   "display_name": "Python [Root]",
   "language": "python",
   "name": "Python [Root]"
  },
  "language_info": {
   "codemirror_mode": {
    "name": "ipython",
    "version": 3
   },
   "file_extension": ".py",
   "mimetype": "text/x-python",
   "name": "python",
   "nbconvert_exporter": "python",
   "pygments_lexer": "ipython3",
   "version": "3.5.2"
  }
 },
 "nbformat": 4,
 "nbformat_minor": 0
}
