{
 "cells": [
  {
   "cell_type": "markdown",
   "metadata": {},
   "source": [
    "# Strings"
   ]
  },
  {
   "cell_type": "markdown",
   "metadata": {},
   "source": [
    "Useful Linkes:\n",
    "\n",
    "<https://adriann.github.io/programming_problems.html>\n",
    "<https://www.careercup.com/page?pid=string-manipulation-interview-questions>\n",
    "\n",
    "Top 20 String Algorithm Questions from Coding Interviews\n",
    "\n",
    "Read more: http://javarevisited.blogspot.com/2015/01/top-20-string-coding-interview-question-programming-interview.html#ixzz4bj8Q4Fqf"
   ]
  },
  {
   "cell_type": "code",
   "execution_count": 43,
   "metadata": {
    "collapsed": false
   },
   "outputs": [
    {
     "name": "stdout",
     "output_type": "stream",
     "text": [
      "Original string: \n",
      "A U.S. dollar bill can be folded approximately 4,000 times in the same place before it will tear.\n",
      "\n",
      "Duplicated characters: \n",
      ".   l   l l   a   b   o l d e d   a p r o i a e l   0 0   t i m e   i n   t e   s a m e   p l a c e   b e f o r e   i t   i l l   t e a r . "
     ]
    }
   ],
   "source": [
    "# How to Print duplicate characters from String?\n",
    "\n",
    "string = \"A U.S. dollar bill can be folded approximately 4,000 times in the same place before it will tear.\"\n",
    "print(\"Original string: \")\n",
    "print(string + '\\n')\n",
    "\n",
    "\n",
    "def dup_str(string):\n",
    "    \n",
    "    ch_list = []\n",
    "    \n",
    "    print(\"Duplicated characters: \")\n",
    "    for i in string:\n",
    "        if i in ch_list:\n",
    "            print(i, end=' ')\n",
    "        else:\n",
    "            ch_list.append(i)\n",
    "            \n",
    "        \n",
    "dup_str(string)"
   ]
  },
  {
   "cell_type": "code",
   "execution_count": 40,
   "metadata": {
    "collapsed": false
   },
   "outputs": [
    {
     "name": "stdout",
     "output_type": "stream",
     "text": [
      "Duplicated characters: \n",
      "p 0 b a c n l e i o . m t r f d s   "
     ]
    }
   ],
   "source": [
    "def dup_st(string):\n",
    "    ch_dict = {}\n",
    "    for ch in string:\n",
    "        ch_dict.setdefault(ch.lower(), 0)\n",
    "        ch_dict[ch.lower()] +=1\n",
    "    \n",
    "    print(\"Duplicated characters: \")\n",
    "    for k in ch_dict.keys():\n",
    "        if ch_dict[k] > 1:\n",
    "            print(k, end=' ')\n",
    "\n",
    "dup_st(string)"
   ]
  }
 ],
 "metadata": {
  "kernelspec": {
   "display_name": "Python [Root]",
   "language": "python",
   "name": "Python [Root]"
  },
  "language_info": {
   "codemirror_mode": {
    "name": "ipython",
    "version": 3
   },
   "file_extension": ".py",
   "mimetype": "text/x-python",
   "name": "python",
   "nbconvert_exporter": "python",
   "pygments_lexer": "ipython3",
   "version": "3.5.2"
  }
 },
 "nbformat": 4,
 "nbformat_minor": 0
}
