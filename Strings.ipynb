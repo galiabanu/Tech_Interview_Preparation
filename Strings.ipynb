{
 "cells": [
  {
   "cell_type": "markdown",
   "metadata": {},
   "source": [
    "# Strings"
   ]
  },
  {
   "cell_type": "markdown",
   "metadata": {},
   "source": [
    "Useful Linkes:\n",
    "\n",
    "<https://adriann.github.io/programming_problems.html>\n",
    "\n",
    "<https://www.careercup.com/page?pid=string-manipulation-interview-questions>\n",
    "\n",
    "http://javarevisited.blogspot.com/2015/01/top-20-string-coding-interview-question-programming-interview.html#ixzz4bj8Q4Fqf"
   ]
  },
  {
   "cell_type": "markdown",
   "metadata": {},
   "source": [
    "## Problem. Dublicate Characters\n",
    "\n",
    "### How to Print duplicate characters from String?"
   ]
  },
  {
   "cell_type": "code",
   "execution_count": 101,
   "metadata": {
    "collapsed": false
   },
   "outputs": [],
   "source": [
    "def print_duplicate(string):\n",
    "    \n",
    "    ch_list = []\n",
    "    print(\"Duplicated characters: \")\n",
    "    \n",
    "    for i in string:\n",
    "        if i in ch_list:\n",
    "            print(i, end='')\n",
    "        else:\n",
    "            ch_list.append(i)"
   ]
  },
  {
   "cell_type": "code",
   "execution_count": 102,
   "metadata": {
    "collapsed": false
   },
   "outputs": [
    {
     "name": "stdout",
     "output_type": "stream",
     "text": [
      "Original string: A U.S. dollar bill can be folded approximately 4,000 times in the same place before it will tear.\n",
      "\n",
      "Duplicated characters: \n",
      ". l ll a b olded aproiael 00 time in te same place before it ill tear."
     ]
    }
   ],
   "source": [
    "string = \"A U.S. dollar bill can be folded approximately 4,000 times in the same place before it will tear.\"\n",
    "print('Original string: ' + string + '\\n')\n",
    "\n",
    "print_duplicate(string)"
   ]
  },
  {
   "cell_type": "markdown",
   "metadata": {},
   "source": [
    "### Print duplicate characters without repetition"
   ]
  },
  {
   "cell_type": "code",
   "execution_count": 53,
   "metadata": {
    "collapsed": false
   },
   "outputs": [],
   "source": [
    "def print_duplicated_char(string):\n",
    "    \n",
    "    ch_dict = {}\n",
    "    \n",
    "    for ch in string:\n",
    "        ch_dict.setdefault(ch.lower(), 0)\n",
    "        ch_dict[ch.lower()] +=1\n",
    "    \n",
    "    print(\"Duplicated characters: \")\n",
    "    for k in ch_dict.keys():\n",
    "        if ch_dict[k] > 1:\n",
    "            print(k, end='')"
   ]
  },
  {
   "cell_type": "code",
   "execution_count": 54,
   "metadata": {
    "collapsed": false
   },
   "outputs": [
    {
     "name": "stdout",
     "output_type": "stream",
     "text": [
      "Duplicated characters: \n",
      "lnspcfm.d0e oratib"
     ]
    }
   ],
   "source": [
    "print_duplicated_char(string)"
   ]
  },
  {
   "cell_type": "markdown",
   "metadata": {},
   "source": [
    "## Problem. Compare dictionaries\n",
    "\n",
    "### Build a dictionary from the string excluding punctuation. Compare them"
   ]
  },
  {
   "cell_type": "code",
   "execution_count": 55,
   "metadata": {
    "collapsed": false
   },
   "outputs": [],
   "source": [
    "def count_ch(string):\n",
    "    \n",
    "    count = {}\n",
    "    exclude = ['.', ',', ';', ':', '\\n', ' ', '-' ]\n",
    "    \n",
    "    for ch in string:\n",
    "        if ch not in exclude:\n",
    "            count.setdefault(ch.lower(), 0)\n",
    "            count[ch.lower()] +=1\n",
    "                    \n",
    "    return count\n",
    "\n",
    "\n",
    "def compare_dict(str1, str2):\n",
    "    \n",
    "        dict1 = count_ch(str1)\n",
    "        dict2 = count_ch(str2)\n",
    "        \n",
    "        diffkeys = [k for k in dict1 if dict1[k] != dict2[k]]\n",
    "            \n",
    "        if not diffkeys:\n",
    "            return True "
   ]
  },
  {
   "cell_type": "code",
   "execution_count": 56,
   "metadata": {
    "collapsed": false
   },
   "outputs": [
    {
     "name": "stdout",
     "output_type": "stream",
     "text": [
      "True\n"
     ]
    }
   ],
   "source": [
    "str1 = 'Mother-in-law'\n",
    "str2 = 'Woman Hitler'\n",
    "\n",
    "print (compare_dict(str1, str2))"
   ]
  },
  {
   "cell_type": "markdown",
   "metadata": {},
   "source": [
    "## Problem. Anagrams\n",
    "\n",
    "### How to check if two Strings are anagrams of each other?"
   ]
  },
  {
   "cell_type": "code",
   "execution_count": 57,
   "metadata": {
    "collapsed": false
   },
   "outputs": [],
   "source": [
    "# Assume there is no space, punctuation marks, capitalized letters\n",
    "# Input: iceman, cinema\n",
    "# Output: True\n",
    "\n",
    "def is_anagram(str1, str2):\n",
    "    \n",
    "    if len(str1)!=len(str2):\n",
    "        return False\n",
    "    \n",
    "    ch_dict = {}\n",
    "    \n",
    "    for ch in str1:\n",
    "        if ch in ch_dict:\n",
    "            ch_dict[ch] += 1\n",
    "        else:\n",
    "            ch_dict[ch] = 1\n",
    "            \n",
    "    n = len(str1)\n",
    "    \n",
    "    for ch in str2:\n",
    "        if ch in ch_dict:\n",
    "            ch_dict[ch] -= 1\n",
    "            n -= 1\n",
    "        else: \n",
    "            return False\n",
    "        \n",
    "    if n==0:\n",
    "        return True\n",
    "    else: \n",
    "        return False"
   ]
  },
  {
   "cell_type": "code",
   "execution_count": 58,
   "metadata": {
    "collapsed": false
   },
   "outputs": [
    {
     "name": "stdout",
     "output_type": "stream",
     "text": [
      "iceman is an anagram of cinema\n"
     ]
    }
   ],
   "source": [
    "str1 = 'iceman'\n",
    "str2 = 'cinema'\n",
    "\n",
    "print (str1 + ' is an anagram of ' + str2 if is_anagram(str1, str2) else 'These are not anagrams')"
   ]
  },
  {
   "cell_type": "markdown",
   "metadata": {},
   "source": [
    "## Problem. Reverse a string\n",
    "\n",
    "(using Iteration and Recursion?)"
   ]
  },
  {
   "cell_type": "code",
   "execution_count": 59,
   "metadata": {
    "collapsed": false
   },
   "outputs": [
    {
     "data": {
      "text/plain": [
       "'.raet lliw ti erofeb ecalp emas eht ni semit 000,4 yletamixorppa dedlof eb nac llib rallod .S.U A'"
      ]
     },
     "execution_count": 59,
     "metadata": {},
     "output_type": "execute_result"
    }
   ],
   "source": [
    "# Python Way\n",
    "\n",
    "string[::-1]\n",
    "''.join(reversed(string))\n"
   ]
  },
  {
   "cell_type": "code",
   "execution_count": 62,
   "metadata": {
    "collapsed": false
   },
   "outputs": [],
   "source": [
    "def reverse(string):\n",
    "    \n",
    "    n = len(string)\n",
    "    s = list(string)\n",
    "    \n",
    "    for i in range(0, n//2):\n",
    "        s[i], s[n-1-i] = s[n-1-i], s[i] \n",
    "        \n",
    "    return ''.join(s)"
   ]
  },
  {
   "cell_type": "code",
   "execution_count": 63,
   "metadata": {
    "collapsed": false
   },
   "outputs": [
    {
     "name": "stdout",
     "output_type": "stream",
     "text": [
      ".eseehc eht steg esuom dnoces eht tub ,mrow eht teg thgim drib ylrae ehT\n"
     ]
    }
   ],
   "source": [
    "string = \"The early bird might get the worm, but the second mouse gets the cheese.\"\n",
    "print(reverse(string))"
   ]
  },
  {
   "cell_type": "markdown",
   "metadata": {},
   "source": [
    "### Reverse the the words in the sentence"
   ]
  },
  {
   "cell_type": "code",
   "execution_count": 94,
   "metadata": {
    "collapsed": true
   },
   "outputs": [],
   "source": [
    "# Input: Alice like Bob\n",
    "# Output: Bob likes Alice\n",
    "\n",
    "def reverse_words(string):\n",
    "    \n",
    "    word_list = string.split(' ')\n",
    "    n = len(word_list)\n",
    "    string = ''\n",
    "    \n",
    "    for i in range(n-1, -1, -1):\n",
    "        string += word_list[i]\n",
    "        if i != 0:\n",
    "            string += ' '\n",
    "    \n",
    "    return string"
   ]
  },
  {
   "cell_type": "code",
   "execution_count": 95,
   "metadata": {
    "collapsed": false
   },
   "outputs": [
    {
     "name": "stdout",
     "output_type": "stream",
     "text": [
      "Bob likes Alice\n"
     ]
    }
   ],
   "source": [
    "string = 'Alice likes Bob'\n",
    "print (reverse_words(string))"
   ]
  },
  {
   "cell_type": "markdown",
   "metadata": {},
   "source": [
    "## Problem. \n",
    "\n",
    "### How to check if a String contains only digits?"
   ]
  },
  {
   "cell_type": "code",
   "execution_count": 66,
   "metadata": {
    "collapsed": false
   },
   "outputs": [],
   "source": [
    "def digits(string):\n",
    "    \n",
    "    for ch in string:\n",
    "        if ch not in ['0', '1', '2', '3', '4', '5', '6', '7', '8', '9', ' ']:\n",
    "            return False\n",
    "        else:\n",
    "            continue\n",
    "    return True"
   ]
  },
  {
   "cell_type": "code",
   "execution_count": 67,
   "metadata": {
    "collapsed": false
   },
   "outputs": [
    {
     "name": "stdout",
     "output_type": "stream",
     "text": [
      "Does string '1234567890' cointains only numbers? True\n"
     ]
    }
   ],
   "source": [
    "string = '1234567890'\n",
    "print('Does string \\''+ string + '\\' cointains only numbers? ' + str(digits(string))) "
   ]
  },
  {
   "cell_type": "markdown",
   "metadata": {},
   "source": [
    "## Problem. Palindrome\n",
    "\n",
    "### How to check if String is a Palindrome?"
   ]
  },
  {
   "cell_type": "code",
   "execution_count": 68,
   "metadata": {
    "collapsed": false
   },
   "outputs": [],
   "source": [
    "def is_palindrome(pali):\n",
    "    \n",
    "    pali_list = []\n",
    "    exclude = ['.', ',', ';', ':', '\\n', ' ', '-', '!', '?' ]\n",
    "    \n",
    "    for ch in pali:\n",
    "        if ch not in exclude:\n",
    "            pali_list.append(ch.lower())\n",
    "            \n",
    "    n = len(pali_list)\n",
    "    \n",
    "    for i in range(0, n//2):\n",
    "        if pali_list[i] != pali_list[n-1-i]:\n",
    "            return False\n",
    "            \n",
    "    return True  "
   ]
  },
  {
   "cell_type": "code",
   "execution_count": 69,
   "metadata": {
    "collapsed": false
   },
   "outputs": [
    {
     "name": "stdout",
     "output_type": "stream",
     "text": [
      "Is \"Dennis sinned\" a palindrome? Answer: True\n",
      "Is \"A Toyota! Race fast... safe car: a Toyota\" a palindrome? Answer: True\n"
     ]
    }
   ],
   "source": [
    "pali1 = \"Dennis sinned\"\n",
    "pali2 = \"A Toyota! Race fast... safe car: a Toyota\"\n",
    "\n",
    "print('Is \\\"' + pali1 + '\\\" a palindrome? Answer: ' + str(is_palindrome(pali)))\n",
    "print('Is \\\"' + pali2 + '\\\" a palindrome? Answer: ' + str(is_palindrome(pali)))\n"
   ]
  },
  {
   "cell_type": "code",
   "execution_count": null,
   "metadata": {
    "collapsed": true
   },
   "outputs": [],
   "source": [
    "\n",
    "\n",
    "# How to check if String is Palindrome? Find if subset is a palindrome \n",
    "### NOT FINISHED, ildus's problem\n",
    "\n",
    "pali_list = []\n",
    "subset_list = []\n",
    "\n",
    "for i in range(1,len(string)-1):\n",
    "    if string[i-1] == string[i+1]:\n",
    "        subset_list.append(s[i])\n",
    "        j = 1\n",
    "        while s[i-j] == s[i+j]:\n",
    "            subset_list.append(s[i+j])\n",
    "            j +=1\n",
    "        "
   ]
  },
  {
   "cell_type": "markdown",
   "metadata": {},
   "source": [
    "## Problem. Subsets\n",
    "\n",
    "### Count the occuarence of the same char in the subset"
   ]
  },
  {
   "cell_type": "code",
   "execution_count": 77,
   "metadata": {
    "collapsed": false
   },
   "outputs": [],
   "source": [
    "# Input: aaabbcccca\n",
    "# Output: a3 b2 c4 a1\n",
    "\n",
    "def count_subset_char(string):\n",
    "    \n",
    "    count = 1\n",
    "    count_str = ''\n",
    "    n = len(string)\n",
    "\n",
    "    for i in range(0, n):\n",
    "    \n",
    "        if i == n-1:\n",
    "            count_str += string[i] + str(count) \n",
    "            \n",
    "        elif string[i] == string[i+1]:\n",
    "            count += 1\n",
    "            \n",
    "        else:\n",
    "            count_str += string[i] + str(count) + ' ' \n",
    "            count = 1\n",
    "            \n",
    "    return count_str"
   ]
  },
  {
   "cell_type": "code",
   "execution_count": 80,
   "metadata": {
    "collapsed": false
   },
   "outputs": [
    {
     "data": {
      "text/plain": [
       "'a3 b2 c4 a1'"
      ]
     },
     "execution_count": 80,
     "metadata": {},
     "output_type": "execute_result"
    }
   ],
   "source": [
    "string = 'aaabbcccca'\n",
    "count_subset_char(string)"
   ]
  },
  {
   "cell_type": "markdown",
   "metadata": {},
   "source": [
    "## Problem. Pig Language"
   ]
  },
  {
   "cell_type": "code",
   "execution_count": 97,
   "metadata": {
    "collapsed": false
   },
   "outputs": [],
   "source": [
    "# Input: pig. Output: igpay (Word strats with consonant)\n",
    "# Input: egg. Output: egg (Word starts with vowel)\n",
    "\n",
    "def transfer_to_pig(string):\n",
    "    \n",
    "    if string[0] in ['a', 'e', 'i', 'o', 'u']:\n",
    "        return string\n",
    "    \n",
    "    str_list = list(string)\n",
    "    n = len(string)\n",
    "    \n",
    "    first = str_list[0]\n",
    "    \n",
    "    for i in range(0, n-1):\n",
    "        str_list[i] = str_list[i+1]\n",
    "        \n",
    "    str_list[n-1] = first\n",
    "    return ''.join(str_list) +'ay'"
   ]
  },
  {
   "cell_type": "code",
   "execution_count": 98,
   "metadata": {
    "collapsed": false
   },
   "outputs": [
    {
     "data": {
      "text/plain": [
       "'igpay'"
      ]
     },
     "execution_count": 98,
     "metadata": {},
     "output_type": "execute_result"
    }
   ],
   "source": [
    "transfer_to_pig('pig')"
   ]
  },
  {
   "cell_type": "code",
   "execution_count": 99,
   "metadata": {
    "collapsed": false
   },
   "outputs": [
    {
     "data": {
      "text/plain": [
       "'egg'"
      ]
     },
     "execution_count": 99,
     "metadata": {},
     "output_type": "execute_result"
    }
   ],
   "source": [
    "transfer_to_pig('egg')"
   ]
  },
  {
   "cell_type": "code",
   "execution_count": 100,
   "metadata": {
    "collapsed": false
   },
   "outputs": [
    {
     "data": {
      "text/plain": [
       "'aryamMay'"
      ]
     },
     "execution_count": 100,
     "metadata": {},
     "output_type": "execute_result"
    }
   ],
   "source": [
    "transfer_to_pig('Maryam')"
   ]
  },
  {
   "cell_type": "markdown",
   "metadata": {},
   "source": []
  }
 ],
 "metadata": {
  "anaconda-cloud": {},
  "kernelspec": {
   "display_name": "Python [Root]",
   "language": "python",
   "name": "Python [Root]"
  },
  "language_info": {
   "codemirror_mode": {
    "name": "ipython",
    "version": 3
   },
   "file_extension": ".py",
   "mimetype": "text/x-python",
   "name": "python",
   "nbconvert_exporter": "python",
   "pygments_lexer": "ipython3",
   "version": "3.5.2"
  }
 },
 "nbformat": 4,
 "nbformat_minor": 0
}
