{
 "cells": [
  {
   "cell_type": "markdown",
   "metadata": {},
   "source": [
    "# Strings"
   ]
  },
  {
   "cell_type": "markdown",
   "metadata": {},
   "source": [
    "Useful Linkes:\n",
    "\n",
    "<https://adriann.github.io/programming_problems.html>\n",
    "\n",
    "<https://www.careercup.com/page?pid=string-manipulation-interview-questions>\n",
    "\n",
    "http://javarevisited.blogspot.com/2015/01/top-20-string-coding-interview-question-programming-interview.html#ixzz4bj8Q4Fqf"
   ]
  },
  {
   "cell_type": "code",
   "execution_count": 2,
   "metadata": {
    "collapsed": false
   },
   "outputs": [
    {
     "name": "stdout",
     "output_type": "stream",
     "text": [
      "Original string: \n",
      "A U.S. dollar bill can be folded approximately 4,000 times in the same place before it will tear.\n",
      "\n",
      "Duplicated characters: \n",
      ".   l   l l   a   b   o l d e d   a p r o i a e l   0 0   t i m e   i n   t e   s a m e   p l a c e   b e f o r e   i t   i l l   t e a r . "
     ]
    }
   ],
   "source": [
    "# How to Print duplicate characters from String?\n",
    "\n",
    "string = \"A U.S. dollar bill can be folded approximately 4,000 times in the same place before it will tear.\"\n",
    "print(\"Original string: \")\n",
    "print(string + '\\n')\n",
    "\n",
    "\n",
    "def dup_str(string):\n",
    "    \n",
    "    ch_list = []\n",
    "    \n",
    "    print(\"Duplicated characters: \")\n",
    "    for i in string:\n",
    "        if i in ch_list:\n",
    "            print(i, end=' ')\n",
    "        else:\n",
    "            ch_list.append(i)\n",
    "            \n",
    "        \n",
    "dup_str(string)"
   ]
  },
  {
   "cell_type": "code",
   "execution_count": 2,
   "metadata": {
    "collapsed": false
   },
   "outputs": [
    {
     "name": "stdout",
     "output_type": "stream",
     "text": [
      "Duplicated characters: \n",
      "n m 0 i o r a t b c d s f . e l p   "
     ]
    }
   ],
   "source": [
    "def dup_st(string):\n",
    "    ch_dict = {}\n",
    "    for ch in string:\n",
    "        ch_dict.setdefault(ch.lower(), 0)\n",
    "        ch_dict[ch.lower()] +=1\n",
    "    \n",
    "    print(\"Duplicated characters: \")\n",
    "    for k in ch_dict.keys():\n",
    "        if ch_dict[k] > 1:\n",
    "            print(k, end=' ')\n",
    "\n",
    "dup_st(string)"
   ]
  },
  {
   "cell_type": "code",
   "execution_count": 3,
   "metadata": {
    "collapsed": false
   },
   "outputs": [
    {
     "name": "stdout",
     "output_type": "stream",
     "text": [
      "Mother-in-law is an anagram of Woman Hitler\n"
     ]
    }
   ],
   "source": [
    "# How to check if two Strings are anagrams of each other?\n",
    "\n",
    "def count_ch(string):\n",
    "    \n",
    "    count = {}\n",
    "    exclude = ['.', ',', ';', ':', '\\n', ' ', '-' ]\n",
    "    \n",
    "    for ch in string:\n",
    "        if ch not in exclude:\n",
    "            count.setdefault(ch.lower(), 0)\n",
    "            count[ch.lower()] +=1\n",
    "                    \n",
    "    return count\n",
    "\n",
    "str1 = 'Mother-in-law'\n",
    "str2 = 'Woman Hitler'\n",
    "\n",
    "def anagram(str1, str2):\n",
    "    \n",
    "        dict1 = count_ch(str1)\n",
    "        dict2 = count_ch(str2)\n",
    "        \n",
    "        diffkeys = [k for k in dict1 if dict1[k] != dict2[k]]\n",
    "            \n",
    "        if not diffkeys:\n",
    "            return True\n",
    "        \n",
    "print (str1 + ' is an anagram of ' + str2 if anagram(str1, str2) else 'These are not anagrams')\n",
    "\n",
    "    "
   ]
  },
  {
   "cell_type": "code",
   "execution_count": 24,
   "metadata": {
    "collapsed": false
   },
   "outputs": [
    {
     "name": "stdout",
     "output_type": "stream",
     "text": [
      ".raet lliw ti erofeb ecalp emas eht ni semit 000,4 yletamixorppa dedlof eb nac llib rallod .S.U A\n"
     ]
    }
   ],
   "source": [
    "# How to reverse String? (using Iteration and Recursion?)\n",
    "\n",
    "# Python Way\n",
    "string[::-1]\n",
    "''.join(reversed(string))\n"
   ]
  },
  {
   "cell_type": "code",
   "execution_count": 25,
   "metadata": {
    "collapsed": false
   },
   "outputs": [
    {
     "name": "stdout",
     "output_type": "stream",
     "text": [
      ".raet lliw ti erofeb ecalp emas eht ni semit 000,4 yletamixorppa dedlof eb nac llib rallod .S.U A\n"
     ]
    }
   ],
   "source": [
    "def reverse(string):\n",
    "    \n",
    "    s=[0]*len(string)\n",
    " \n",
    "    for i in range(0, len(string)):\n",
    "        s[i] = string[i]\n",
    "\n",
    "    for i in range(0, int(len(string)/2)):\n",
    "        s[i], s[len(string)-1-i] = s[len(string)-1-i], s[i] \n",
    "        \n",
    "    return ''.join(s)\n",
    "    \n",
    "print(reverse(string))"
   ]
  },
  {
   "cell_type": "code",
   "execution_count": 43,
   "metadata": {
    "collapsed": false
   },
   "outputs": [
    {
     "name": "stdout",
     "output_type": "stream",
     "text": [
      "Does string '1234567890' cointains only numbers? True\n"
     ]
    }
   ],
   "source": [
    "# How to check if a String contains only digits?\n",
    "\n",
    "string = '1234567890'\n",
    "\n",
    "def digits(string):\n",
    "    \n",
    "    for ch in string:\n",
    "        if ch not in ['0', '1', '2', '3', '4', '5', '6', '7', '8', '9', ' ']:\n",
    "            return False\n",
    "        else:\n",
    "            continue\n",
    "    return True\n",
    "\n",
    "print('Does string \\''+ string + '\\' cointains only numbers? ' + str(digits(string)))    "
   ]
  },
  {
   "cell_type": "code",
   "execution_count": 4,
   "metadata": {
    "collapsed": false
   },
   "outputs": [
    {
     "name": "stdout",
     "output_type": "stream",
     "text": [
      "['A', ' ', 'U', '.', 'S', '.', ' ', 'd', 'o', 'l', 'l', 'a', 'r', ' ', 'b', 'i', 'l', 'l', ' ', 'c', 'a', 'n', ' ', 'b', 'e', ' ', 'f', 'o', 'l', 'd', 'e', 'd', ' ', 'a', 'p', 'p', 'r', 'o', 'x', 'i', 'm', 'a', 't', 'e', 'l', 'y', ' ', '4', ',', '0', '0', '0', ' ', 't', 'i', 'm', 'e', 's', ' ', 'i', 'n', ' ', 't', 'h', 'e', ' ', 's', 'a', 'm', 'e', ' ', 'p', 'l', 'a', 'c', 'e', ' ', 'b', 'e', 'f', 'o', 'r', 'e', ' ', 'i', 't', ' ', 'w', 'i', 'l', 'l', ' ', 't', 'e', 'a', 'r', '.']\n"
     ]
    }
   ],
   "source": [
    "# Python Way\n",
    "\n",
    "str_to_list = list(string)\n",
    "print(str_to_list)\n"
   ]
  }
 ],
 "metadata": {
  "anaconda-cloud": {},
  "kernelspec": {
   "display_name": "Python [Root]",
   "language": "python",
   "name": "Python [Root]"
  },
  "language_info": {
   "codemirror_mode": {
    "name": "ipython",
    "version": 3
   },
   "file_extension": ".py",
   "mimetype": "text/x-python",
   "name": "python",
   "nbconvert_exporter": "python",
   "pygments_lexer": "ipython3",
   "version": "3.5.2"
  }
 },
 "nbformat": 4,
 "nbformat_minor": 0
}
